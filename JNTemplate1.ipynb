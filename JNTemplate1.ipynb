{
  "cells": [
    {
      "cell_type": "markdown",
      "id": "9b2bbb12",
      "metadata": {
        "id": "9b2bbb12"
      },
      "source": [
        "**Your Name**  \n",
        "**MTH 2540 - Python**  \n",
        "**Fall 2025**\n",
        "\n",
        "<!--- For a line break, place 2 spaces at the end of the line or <br> --->"
      ]
    },
    {
      "cell_type": "markdown",
      "id": "0b002530",
      "metadata": {
        "id": "0b002530"
      },
      "source": [
        "<!--- Title cell --->\n",
        "# <font color = blue>Lab or Homework 1: Title Cell</font>\n",
        "\n",
        "***"
      ]
    },
    {
      "cell_type": "code",
      "execution_count": null,
      "id": "cc922950",
      "metadata": {
        "id": "cc922950"
      },
      "outputs": [],
      "source": [
        "# This is an initialization code cell. We will be adding stuff to this cell\n",
        "# during the semester.\n",
        "# The following two lines tell python to show the output from all the commands\n",
        "# in a code cell. The default mode in many platforms is to only show output\n",
        "# from the last command.\n",
        "from IPython.core.interactiveshell import InteractiveShell\n",
        "InteractiveShell.ast_node_interactivity = \"all\"\n",
        "\n",
        "import numpy as np\n",
        "import scipy.special\n",
        "import matplotlib.pyplot as plt\n",
        "from math import *\n",
        "from random import randint, random\n",
        "\n",
        "# Copy/paste as needed in an active cell to override the previous imports\n",
        "# from cmath import *\n",
        "# import math\n",
        "# import cmath"
      ]
    },
    {
      "cell_type": "code",
      "execution_count": null,
      "id": "1b5aff46",
      "metadata": {
        "id": "1b5aff46"
      },
      "outputs": [],
      "source": []
    }
  ],
  "metadata": {
    "kernelspec": {
      "display_name": "Python 3 (ipykernel)",
      "language": "python",
      "name": "python3"
    },
    "language_info": {
      "codemirror_mode": {
        "name": "ipython",
        "version": 3
      },
      "file_extension": ".py",
      "mimetype": "text/x-python",
      "name": "python",
      "nbconvert_exporter": "python",
      "pygments_lexer": "ipython3",
      "version": "3.9.13"
    },
    "colab": {
      "provenance": []
    }
  },
  "nbformat": 4,
  "nbformat_minor": 5
}